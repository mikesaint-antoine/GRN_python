{
 "cells": [
  {
   "cell_type": "markdown",
   "id": "777c408e",
   "metadata": {},
   "source": [
    "# Testing Inference Functions\n",
    "\n",
    "The goal of this notebook is to test out functions in the inference.py file. These functions are all related to network inference -- that is, the challenge of trying to infer the structure of a gene regulatory network (GRN) from gene expression data.\n",
    "\n",
    "In case you don't like working with Jupyter notebooks (like me), this code is also available in the testing_inference.py file. The only reason I'm making a Jupyter notebook out of it is because I think it makes it easier to explain the tests."
   ]
  },
  {
   "cell_type": "code",
   "execution_count": 5,
   "id": "7753a3d3",
   "metadata": {},
   "outputs": [],
   "source": [
    "import numpy as np\n",
    "import inference"
   ]
  },
  {
   "cell_type": "markdown",
   "id": "e6bedbd3",
   "metadata": {},
   "source": [
    "Let's start off by making some fake data to work with. We'll generate some random numbers that will represent data for 20 genes, across 100 samples.\n",
    "\n",
    "Importantly, the data matrix will be in the shape [genes,samples]. All expression matrices in this project will take that shape."
   ]
  },
  {
   "cell_type": "code",
   "execution_count": 6,
   "id": "43055ad2",
   "metadata": {},
   "outputs": [],
   "source": [
    "num_genes = 20\n",
    "num_samps = 100\n",
    "\n",
    "\n",
    "genes = []\n",
    "samps = []\n",
    "\n",
    "\n",
    "for i in range(1,num_genes+1):\n",
    "    genes.append(f\"G{i}\")\n",
    "\n",
    "for i in range(1,num_samps+1):\n",
    "    samps.append(f\"sample{i}\")\n",
    "\n",
    "\n",
    "## expression data, rows are genes and columns are samples\n",
    "data = np.random.rand(num_genes,num_samps)"
   ]
  },
  {
   "cell_type": "markdown",
   "id": "befa90ab",
   "metadata": {},
   "source": [
    "### Inference Methods: General Format\n",
    "\n",
    "Each inference function takes in the data matrix with shape [genes,samples], and returns a matrix with shape [genes,genes]. In this output matrix, which I'll call \"edges\", the number at index [i,j] corresponds to the relationship between genes[i] and genes[j].\n",
    "\n",
    "For example, in the code below, we pass our data into the correlation() function, and get an output matrix called \"edges\". If we want to know the correlation between the i-th gene and the j-th gene in the \"genes\" list, we can find this at edges[i,j].\n",
    "\n",
    "This general setup is going to be true for every inference method in this project. You will always have the option to simply call say: edges = inference.example_function(data), and this will yield an edges matrix.\n",
    "\n",
    "Any additional options for these functions will be included as parameters that have some default value. For example, the correlation function has a default parameter signed=1. If you prefer to get an unsigned correlation matrix, you can set this parameter to signed=0."
   ]
  },
  {
   "cell_type": "code",
   "execution_count": 14,
   "id": "a900e9ed",
   "metadata": {},
   "outputs": [
    {
     "name": "stdout",
     "output_type": "stream",
     "text": [
      "(20, 20)\n",
      "(20, 20)\n",
      "(20, 20)\n"
     ]
    }
   ],
   "source": [
    "edges = inference.correlation(data)\n",
    "# print(edges)\n",
    "print(edges.shape)\n",
    "\n",
    "edges = inference.correlation(data,signed=0)\n",
    "# print(edges)\n",
    "print(edges.shape)\n",
    "\n",
    "[edges,p_values] = inference.correlation(data,get_p_value=True)\n",
    "# print(p_values)\n",
    "print(p_values.shape)"
   ]
  },
  {
   "cell_type": "markdown",
   "id": "69df7b9e",
   "metadata": {},
   "source": [
    "### Methods List\n",
    "\n",
    "Right now, the current methods are available:\n",
    "\n",
    "Pearson correlation -- correlation()\n",
    "\n",
    "Linear regression -- linear_regression()\n",
    "\n",
    "Example code for each is given in the following cell.\n",
    "\n"
   ]
  },
  {
   "cell_type": "code",
   "execution_count": 15,
   "id": "2114f408",
   "metadata": {},
   "outputs": [
    {
     "name": "stdout",
     "output_type": "stream",
     "text": [
      "(20, 20)\n",
      "(20, 20)\n"
     ]
    }
   ],
   "source": [
    "## CORRELATION\n",
    "edges = inference.correlation(data)\n",
    "# print(edges)\n",
    "print(edges.shape)\n",
    "\n",
    "\n",
    "## LINEAR REGRESSION\n",
    "edges = inference.linear_regression(data)\n",
    "# print(edges)\n",
    "print(edges.shape)"
   ]
  },
  {
   "cell_type": "markdown",
   "id": "b152b167",
   "metadata": {},
   "source": [
    "If there are any other particular methods you'd like to see, let me know and I'll try to add them!"
   ]
  },
  {
   "cell_type": "code",
   "execution_count": null,
   "id": "e6efca4e",
   "metadata": {},
   "outputs": [],
   "source": []
  }
 ],
 "metadata": {
  "kernelspec": {
   "display_name": "Python 3 (ipykernel)",
   "language": "python",
   "name": "python3"
  },
  "language_info": {
   "codemirror_mode": {
    "name": "ipython",
    "version": 3
   },
   "file_extension": ".py",
   "mimetype": "text/x-python",
   "name": "python",
   "nbconvert_exporter": "python",
   "pygments_lexer": "ipython3",
   "version": "3.9.13"
  }
 },
 "nbformat": 4,
 "nbformat_minor": 5
}
